{
 "cells": [
  {
   "cell_type": "code",
   "execution_count": 76,
   "metadata": {
    "collapsed": true
   },
   "outputs": [],
   "source": [
    "%matplotlib inline\n",
    "import numpy as np\n",
    "import matplotlib\n",
    "import matplotlib.pyplot as plt\n",
    "import scipy\n",
    "from scipy import stats"
   ]
  },
  {
   "cell_type": "markdown",
   "metadata": {},
   "source": [
    "A Little Statistics"
   ]
  },
  {
   "cell_type": "markdown",
   "metadata": {},
   "source": [
    "Question 1"
   ]
  },
  {
   "cell_type": "code",
   "execution_count": 73,
   "metadata": {},
   "outputs": [
    {
     "data": {
      "image/png": "[encoded data removed]",
      "text/plain": [
       "<matplotlib.figure.Figure at 0x928d2e8>"
      ]
     },
     "metadata": {},
     "output_type": "display_data"
    }
   ],
   "source": [
    "# Part A\n",
    "# Instruction: Look up the Normal distribution and read about it. A few potential starting points:\n",
    "# Math is fun, Wolfram, and a useful z table\n",
    "\n",
    "sigma = 1; # standard deviation at one\n",
    "mu = 0;    # average at zero\n",
    "\n",
    "fig = plt.figure()\n",
    "ax = plt.axes()\n",
    "\n",
    "x = np.linspace(-4,4,1000); # x axis\n",
    "ax.plot(x, 1/(sigma * np.sqrt(2 * np.pi)) * np.exp(-(x - mu)**2 / (2 * sigma**2))) # equation for norm dist\n",
    "\n",
    "plt.show() # graph of normal distribution"
   ]
  },
  {
   "cell_type": "code",
   "execution_count": 74,
   "metadata": {},
   "outputs": [
    {
     "name": "stdout",
     "output_type": "stream",
     "text": [
      "[ 0.5         0.84134475  0.97724987  0.9986501   0.99996833  0.99999971]\n"
     ]
    }
   ],
   "source": [
    "# Part B\n",
    "# Instruction: As in class, try integrating the standard normal distribution. This can be done either\n",
    "# with the erfc(), or calls to specific statistical cumulative probability distributions such as normcdf()\n",
    "# in MatLab or stats.norm.cdf() in scipy. Try several values of sigma, and make sure you are getting values\n",
    "# that match the z-table. \n",
    "\n",
    "normDisInput = [0,1,2,3,4,5];                 # different value of sigma\n",
    "normDisOutput = stats.norm.cdf(normDisInput); # integrating std norm dist with sigma values\n",
    "print(normDisOutput)\n",
    "\n",
    "# The total area, from negative infinity to positive infinity, is equal to one.\n",
    "# The function used above is to integrate the standard normal distribution.\n",
    "# In the case of this problem, we are integrating from negative infinity up to different values of sigma.\n",
    "# The resulting value is the area to the left of the sigma value, under the graph."
   ]
  },
  {
   "cell_type": "code",
   "execution_count": 20,
   "metadata": {},
   "outputs": [
    {
     "name": "stdout",
     "output_type": "stream",
     "text": [
      "[ 0.  1.  2.  3.  4.  5.]\n"
     ]
    }
   ],
   "source": [
    "# Part C\n",
    "# Instruction: Now more often than not, we actually want to do the inverse: for a given probability\n",
    "# determine the associated 'sigma' value: norminv() or erfcinv() in MatLab; stats.norm.ppf() in python.\n",
    "# Try several probability values where you know what the answer should be (e.g. Probability associated\n",
    "# with 1, 2, 5 sigma), and show that you get the right answer in terms of sigma.\n",
    "\n",
    "inversely = stats.norm.ppf(normDisOutput); # input is the values found previously\n",
    "print(inversely) # inverse should get back the sigma values\n",
    "\n",
    "# After finding the decimal values from the previous section, we can use the solutions to see that the inverse\n",
    "# will get us the original results.\n",
    "# The decimal values are the partial areas under the curve that is left of the associated sigma value."
   ]
  },
  {
   "cell_type": "code",
   "execution_count": 24,
   "metadata": {},
   "outputs": [
    {
     "name": "stdout",
     "output_type": "stream",
     "text": [
      "[-1.28155157 -0.84162123 -0.52440051 -0.2533471   0.        ]\n"
     ]
    }
   ],
   "source": [
    "# Part D\n",
    "# Instruction: Think about and explain the meaning of the minus sign that appears, and discuss how you\n",
    "# will deal with it. \n",
    "\n",
    "otherInput = [0.1,0.2,0.3,0.4,0.5];\n",
    "inversely2 = stats.norm.ppf(otherInput);\n",
    "print(inversely2)\n",
    "\n",
    "# Putting in areas of less than 0.5 would result in negative output.\n",
    "# Since the curve is centered on zero, and an area of 0.5 signifies the area left of the y-axis, any value less\n",
    "# than 0.5 would give us a negative sigma value.\n",
    "# This can be dealt with by shifting the entire distribution to the right.\n",
    "# The extent to be the desired sigma that we are looking for."
   ]
  },
  {
   "cell_type": "markdown",
   "metadata": {},
   "source": [
    "Question 2"
   ]
  },
  {
   "cell_type": "code",
   "execution_count": 90,
   "metadata": {},
   "outputs": [
    {
     "data": {
      "image/png": "[encoded data removed]",
      "text/plain": [
       "<matplotlib.figure.Figure at 0x924cb38>"
      ]
     },
     "metadata": {},
     "output_type": "display_data"
    }
   ],
   "source": [
    "# Part A and B\n",
    "# Instruction: Read up on your distribution. Make plots (tweaking distribution and plot parameters as needed).\n",
    "\n",
    "fig, ax = plt.subplots(1, 1)\n",
    "\n",
    "d = stats.chi2.rvs(df = 20, size = 100000)\n",
    "\n",
    "plt.tick_params(labelsize = 10)\n",
    "plt.xlim([0,50])\n",
    "x = np.linspace(0,100,100000)\n",
    "\n",
    "ax.hist(d, 50, normed = True, alpha = 0.7)\n",
    "\n",
    "ax.plot(x,stats.chi2.pdf(x,df = 20),'r-',linewidth = 2)\n",
    "plt.show()\n",
    "\n",
    "# This section represents the chi-square distribution."
   ]
  },
  {
   "cell_type": "markdown",
   "metadata": {},
   "source": [
    "Non-continuous Distributions"
   ]
  },
  {
   "cell_type": "code",
   "execution_count": 84,
   "metadata": {},
   "outputs": [
    {
     "data": {
      "image/png": "[encoded data removed]",
      "text/plain": [
       "<matplotlib.figure.Figure at 0x94d5e48>"
      ]
     },
     "metadata": {},
     "output_type": "display_data"
    }
   ],
   "source": [
    "# Part B\n",
    "# Instruction: Make a series of plots with different parameters; and explain the features. \n",
    "# (Hint: your plots will need to be discrete, sometimes 'stairs' style plots can be helpful). \n",
    "\n",
    "parameters = [1,2,5]\n",
    "linestyle = ['-','--',':']\n",
    "\n",
    "fig, ax = plt.subplots()\n",
    "\n",
    "for mu, ls in zip(parameters, linestyle):\n",
    "    d = stats.poisson(mu)\n",
    "    x = np.arange(-1,100)\n",
    "    \n",
    "    plt.plot(x, d.pmf(x), linestyle = 'steps-mid' + ls)\n",
    "    \n",
    "plt.xlim(-0.5,20)\n",
    "plt.show()\n",
    "\n",
    "# Three poisson distributions with different parameter mu or lambda(in some other texts).\n",
    "# This paramter indicates the average number of events per interval.\n",
    "# From the plot, more occurances allows for more number of events, and the probability decreases as both\n",
    "# occurances and events increase.\n",
    "# The graph is taken from J. Vanderplas at https://www.astroml.org/book_figures/chapter3/fig_poisson_distribution.html"
   ]
  },
  {
   "cell_type": "code",
   "execution_count": null,
   "metadata": {
    "collapsed": true
   },
   "outputs": [],
   "source": []
  }
 ],
 "metadata": {
  "kernelspec": {
   "display_name": "Python 3",
   "language": "python",
   "name": "python3"
  },
  "language_info": {
   "codemirror_mode": {
    "name": "ipython",
    "version": 3
   },
   "file_extension": ".py",
   "mimetype": "text/x-python",
   "name": "python",
   "nbconvert_exporter": "python",
   "pygments_lexer": "ipython3",
   "version": "3.6.2"
  }
 },
 "nbformat": 4,
 "nbformat_minor": 2
}
