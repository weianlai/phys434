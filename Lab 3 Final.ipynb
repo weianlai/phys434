{
 "cells": [
  {
   "cell_type": "markdown",
   "metadata": {},
   "source": [
    "Lab #3: Asking a statistical question\n",
    "\n",
    "Name: Wayne Lai, Partner: Rebecca"
   ]
  },
  {
   "cell_type": "code",
   "execution_count": 73,
   "metadata": {
    "collapsed": true
   },
   "outputs": [],
   "source": [
    "import numpy as np\n",
    "import matplotlib.pyplot as plt\n",
    "from scipy.stats import norm"
   ]
  },
  {
   "cell_type": "markdown",
   "metadata": {},
   "source": [
    "Problem 1"
   ]
  },
  {
   "cell_type": "code",
   "execution_count": 74,
   "metadata": {},
   "outputs": [],
   "source": [
    "# create 100k data points at 12 kelvins +- 0.4 kelvins\n",
    "# add in the bad points, using append. Include the x-axis.\n",
    "# from the gaussian distribution of the ppf, we want to get rid of the tails at 1/100000.\n",
    "\n",
    "# Part A\n",
    "#\n",
    "# Statistical Question: We want to know the probability if a set of data can be reliable by\n",
    "# factoring in the effect of temperature. Optimally, we know that the experiment works well\n",
    "# under some interval temperature. However, there will be situations where bad data is acquired\n",
    "# despite good temperature, or good data acquired under bad temperature. How can we use the\n",
    "# temperature parameter to determine a numerical way of determine whether we should keep the\n",
    "# data or not.\n",
    "\n",
    "# statistical question in math: with the probability distribution of the data points, what are\n",
    "# the numerical thresholds if we integrate and take out the top and bottom 1/100000. After\n",
    "# creating the data points that follows a Gaussian Distribution, the bad points given were\n",
    "# added in. The 1/100000 fraction is some arbitrary value which our group agree that signifies\n",
    "# the outlier well. This fraction is calculated to be at a sigma of 4.25. Now we integrate to\n",
    "# find the area under the curve at above 4.25 sigma on both high and low values. The end result\n",
    "# is a upper threshold of 13.7 and lower of 10.3. This window is compared to the 8 bad values\n",
    "# that were given, we find that 1/4 of bad data was still included, while 3/4 of the bad data\n",
    "# was eliminated. The truth table follows..\n",
    "\n",
    "# true positive: .99999\n",
    "# false positive: 0.25\n",
    "# true negative: 1.0\n",
    "# false negative: 0.75\n",
    "\n",
    "x = np.linspace(10,15,100000);\n",
    "\n",
    "badDataP = [10., 10.3, 2.1, 0., 0., 15.6, 22.3, 12.7];\n",
    "dataPoint = norm.rvs(loc = 12, scale = 0.4, size = 100000);\n",
    "totalData = np.append(dataPoint,badDataP);\n",
    "\n",
    "# 10.3 and 13.7\n",
    "# false negative at 3/4. those are the values that falls outside of the upper and lower\n",
    "# threshold, compared to the values that are listed on the question. the bad data that was\n",
    "# kept is 1/4.\n",
    "\n",
    "# Part B\n",
    "#\n",
    "# As the threshold widens, the less good data was taken out, but we will also include a lot of\n",
    "# bad data. The trend is very predictable as conversely, smaller threshold window will throw out\n",
    "# more good data. Although not a definitive amount since we are dealing with a lot of numbers,\n",
    "# but this technique does provide more flexibility as desired probability can be adjusted base\n",
    "# on the needs of the experiment.\n",
    "\n",
    "# Part C\n",
    "#\n",
    "# Yes, commission does get included in our result. For example, the 12.7 value from the bad list\n",
    "# cannot be easily discarded as it is very close within accepted range. To hone in on eliminating\n",
    "# this value can result in taking out many good data as we have to shrink the upper and lower\n",
    "# threshold for accepted values."
   ]
  },
  {
   "cell_type": "markdown",
   "metadata": {
    "collapsed": true
   },
   "source": [
    "Problem 2"
   ]
  },
  {
   "cell_type": "code",
   "execution_count": 75,
   "metadata": {
    "collapsed": true
   },
   "outputs": [],
   "source": [
    "# rayleigh distribution with 2 dimensional gaussian\n",
    "# multivariate normal distribution is another choice\n",
    "\n",
    "# Part 1: The Question\n",
    "#\n",
    "# The way to look at the problem is to start at the center of the graph. The data is looked at\n",
    "# in terms of rings of infinitesimal small thickness, in our case, a ring that is one data thick.\n",
    "# As the data go further away from the center, the ring gets bigger, and there will be more points\n",
    "# to compare. Near the center, there should not be much difference with the data as most of the\n",
    "# star is contained within. Moving further out, there will be more variability since the wobble\n",
    "# is more defined, as the background can be seen easier because the star is not always blocking.\n",
    "# \n",
    "# From the center of the 2 Dimensional Histogram, branching outwards, what is the\n",
    "# possibility of finding data that is different compared to majority of other data within the\n",
    "# same ring of the same radius from the center?\n",
    "#\n",
    "# With this question, the biggest problem is the interpretation of the outlier as the radius\n",
    "# increases. Near the center, the outlier is the darker background, outwardly though, the outlier\n",
    "# becomes the lighter yellow data. I think, through processing, we will see equal distribution at\n",
    "# some point, where a sigma 5 data may not even exist.\n",
    "\n",
    "# Part 2: In Math\n",
    "#\n",
    "# Take the data from some radius and compare to all data in that radius. From the set of values,\n",
    "# calculate the expected value, the mean, and run it through the data to find the variance, and\n",
    "# finally the sigma, standard deviation. Multiply the sigma by five, then add and minus the expected\n",
    "# value to obtain the upper and lower bound of the data set. This will generally result in a gaussian\n",
    "# distribution.\n",
    "# When comparing different rings, the distribution is going to be different, as was mentioned, the\n",
    "# outlying data flips. Assuming that the data is far from being symmetrical, we cannot use horizontal\n",
    "# slices for our distribution and have it apply to the entire map. Instead, the multivariate normal\n",
    "# distribution would be the more appropriate outcome. This is due to the 2 dimensional nature of the\n",
    "# function, we have to believe that the probability function has two variables, it depends on both the\n",
    "# x and the y value."
   ]
  },
  {
   "cell_type": "markdown",
   "metadata": {
    "collapsed": true
   },
   "source": [
    "Problem 3"
   ]
  },
  {
   "cell_type": "code",
   "execution_count": 76,
   "metadata": {},
   "outputs": [
    {
     "data": {
      "image/png": "[encoded data removed]",
      "text/plain": [
       "<matplotlib.figure.Figure at 0xa263160>"
      ]
     },
     "metadata": {},
     "output_type": "display_data"
    },
    {
     "name": "stdout",
     "output_type": "stream",
     "text": [
      "The 5 sigma value is 4.859127\n",
      "At a probability of 1 in 3.5e6, the detector would pick up more than 5 cosmic ray signals.\n"
     ]
    }
   ],
   "source": [
    "# Part 1: Question\n",
    "#\n",
    "# The problem focuses on cosmic ray frequency given some interval of time. The rate is one a minute,\n",
    "# so one will be the expected value or average. As time passes, there will be some minutes where the\n",
    "# detector will recieve no cosmic ray, other minutes, the detector may recieve more than one signal.\n",
    "#\n",
    "# Given an interval of 15 days, with the count of 6800 cosmic rays recieved, we have an average that is\n",
    "# observed. Additionally, we know the expected rate, so what would be the significance of the observation\n",
    "# when we compare the two mean values? Also, what is the probability of frequencey of cosmic ray in this\n",
    "# 15 day period? Does it match closely to the expected rate, or is the observed data an outlier?\n",
    "\n",
    "# Part 2: In Math\n",
    "#\n",
    "# Finding the probability of the rate of frequency in some time interval can best be described with a\n",
    "# poisson distribution. The peak of the probability density function will represent the average. At the\n",
    "# expected rate, maximum will be at one, with variance at the same value, due to behavior of the poisson.\n",
    "# At 5 sigma, we can find the outlier. This outlier represents the absurd increase of cosmic ray in that\n",
    "# minute, which despite of the hole caused by the moon, there are still enough bypassing gamma rays.\n",
    "\n",
    "from scipy.stats import poisson\n",
    "\n",
    "totalMin = 15 * 8 * 60; # 15 days * 8 hours/day * 60 minutes/hour\n",
    "newMu = 6800 / totalMin; # observed rate\n",
    "x = np.arange(-1, totalMin);\n",
    "\n",
    "expDist = poisson(1);\n",
    "obsDist = poisson(newMu);\n",
    "\n",
    "plt.plot(x, expDist.pmf(x), label = \"mu = 1\");\n",
    "plt.plot(x, obsDist.pmf(x), label = \"mu = %f\" %newMu);\n",
    "plt.xlim(-1,10);\n",
    "\n",
    "plt.xlabel(\"Cosmic Rays\")\n",
    "plt.ylabel(\"Probability\")\n",
    "plt.title(\"Cosmic Ray Frequency Per Minute\")\n",
    "plt.legend();\n",
    "plt.show();\n",
    "\n",
    "# Part 3: Calculate Sigma\n",
    "#\n",
    "# For the Poisson Distribution, the variance is the same as the mean, so the sigma can be calculated\n",
    "# at square root of the variance, about 0.97 of the observed data. Multiply the value by 5, we find that\n",
    "# it takes more than 5 signals a minute to consider the data to be out at 5 sigma.\n",
    "\n",
    "probs5 = 1. / 3500000.;\n",
    "sigma5 = 5 * np.sqrt(newMu);\n",
    "print(\"The 5 sigma value is %f\" %sigma5);\n",
    "print(\"At a probability of 1 in 3.5e6, the detector would pick up more than 5 cosmic ray signals.\");\n",
    "\n",
    "# The curve visually compares the expected and the observed data."
   ]
  },
  {
   "cell_type": "code",
   "execution_count": null,
   "metadata": {
    "collapsed": true
   },
   "outputs": [],
   "source": []
  }
 ],
 "metadata": {
  "kernelspec": {
   "display_name": "Python 3",
   "language": "python",
   "name": "python3"
  },
  "language_info": {
   "codemirror_mode": {
    "name": "ipython",
    "version": 3
   },
   "file_extension": ".py",
   "mimetype": "text/x-python",
   "name": "python",
   "nbconvert_exporter": "python",
   "pygments_lexer": "ipython3",
   "version": "3.6.2"
  }
 },
 "nbformat": 4,
 "nbformat_minor": 2
}
