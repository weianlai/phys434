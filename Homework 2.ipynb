{
 "cells": [
  {
   "cell_type": "code",
   "execution_count": 2,
   "metadata": {
    "collapsed": true
   },
   "outputs": [],
   "source": [
    "import numpy as np"
   ]
  },
  {
   "cell_type": "code",
   "execution_count": 8,
   "metadata": {},
   "outputs": [
    {
     "name": "stdout",
     "output_type": "stream",
     "text": [
      "Probability of rolling two ones is 0.027778\n",
      "Probability of sum of seven is 0.166667\n"
     ]
    }
   ],
   "source": [
    "# Problem 1\n",
    "#\n",
    "# There are less chances of rolling two ones since there is only one combination out of all \n",
    "# possibilities to achieve this. Rolling sevens is more probable as one can roll a one and six,\n",
    "# two and five, three and four, and so on. In other words, there are more combinations that can\n",
    "# have the result being sum of seven.\n",
    "\n",
    "# For rolling two ones, P(A and B) = P(A)*P(B)\n",
    "snakeEyes = (1 / 6) * (1 / 6);\n",
    "print('Probability of rolling two ones is %f' %snakeEyes)\n",
    "\n",
    "# For rolling sum of seven, we add up all combination of seven over total possible combinations\n",
    "sumSeven = (1 / 36) + (1 / 36) + (1 / 36) + (1 / 36) + (1 / 36) + (1 / 36)\n",
    "print('Probability of sum of seven is %f' %sumSeven)"
   ]
  },
  {
   "cell_type": "code",
   "execution_count": 138,
   "metadata": {},
   "outputs": [
    {
     "name": "stdout",
     "output_type": "stream",
     "text": [
      "Probability of Sum of 4, with 2 dice is 0.083333\n",
      "\n",
      "Probability of sum starting from 2 to 12\n",
      "[ 0.02777778  0.05555556  0.08333333  0.11111111  0.13888889  0.16666667\n",
      "  0.13888889  0.11111111  0.08333333  0.05555556  0.02777778]\n"
     ]
    }
   ],
   "source": [
    "# Problem 2\n",
    "#\n",
    "# The convolution technique involves the summation of the formula, P(X) = P(Z) * P(X - Z), for all\n",
    "# the faces of the dice, represented by the variable 'Z'. The variable 'X' is the single number\n",
    "# that is the sum we are looking for.\n",
    "# To solve analytically, first we know that the probability of rolling any one combination of two\n",
    "# die is 1/36. Now we just have to figure out how many 1/36's we need to add.\n",
    "# Plugging in 1 to 6 into Z and, if we are looking for the probability of rolling two dice with sum\n",
    "# of 4, then 4 will be the X.\n",
    "# Notice that when Z >= 4, the P(X - Z) term becomes zero, meaning that the value is impossible to\n",
    "# obtain. When Z < 4, we have a non-zero value, with 1/36 as the solution; this occurs three times,\n",
    "# for values 1, 2, and 3.\n",
    "# In conclusion, we add 1/36 three times to get the probability of rolling two die with sum of 4,\n",
    "# which gives us the answer 3/36 or 1/12.\n",
    "\n",
    "def convolutionOp(sumVal, freq, face):\n",
    "    pA = 1 / face;\n",
    "    diff = sumVal - np.arange(1, face + 1);\n",
    "    pB = np.where((diff < 1)|(diff > face),0,1) * pA;\n",
    "    return np.sum(pA * pB)\n",
    "\n",
    "# Using function above, we can find the probability of rolling two die with sum of 4.\n",
    "numSol = convolutionOp(4,2,6)\n",
    "\n",
    "print('Probability of Sum of 4, with 2 dice is %f' %numSol)\n",
    "print()\n",
    "\n",
    "# A distribution can be expressed by running the function through all the possible sums.\n",
    "probAll = np.zeros(11);\n",
    "count = 0;\n",
    "for x in range (2,13):\n",
    "    probAll[count] = convolutionOp(x, 2, 6)\n",
    "    count = count + 1;\n",
    "\n",
    "print('Probability of sum starting from 2 to 12')\n",
    "print(probAll)"
   ]
  },
  {
   "cell_type": "code",
   "execution_count": 142,
   "metadata": {},
   "outputs": [
    {
     "name": "stdout",
     "output_type": "stream",
     "text": [
      "The mean is 0.090909\n",
      "The variance is 0.001977\n"
     ]
    }
   ],
   "source": [
    "# Problem 3\n",
    "#\n",
    "# The mean would be the sum of all the probability values divide by the possible outcomes\n",
    "meanAll = sum(probAll) / 11;\n",
    "print('The mean is %f' %meanAll)\n",
    "\n",
    "# The variance would take the difference between the original value and the mean, square it,\n",
    "# add it all up, then divide by the number of values.\n",
    "varAll = np.sum((probAll - meanAll)**2) / 11;\n",
    "print('The variance is %f' %varAll)"
   ]
  },
  {
   "cell_type": "code",
   "execution_count": null,
   "metadata": {},
   "outputs": [],
   "source": [
    "# Problem 4\n",
    "#\n",
    "# The distribution would be a Gaussian due to the number of possibilities of obtaining a certain\n",
    "# sum. At the minimum sum of 10 or maximum sum of 60, one would need to roll all 1's or all 6's \n",
    "# which is an unique combination, probability of rolling it is very low. As the sum shifts towards\n",
    "# the middle, such as 35, there would be more combinations which allows the 10 die to add up to the\n",
    "# number, thus increasing the posibility of rolling that number."
   ]
  }
 ],
 "metadata": {
  "kernelspec": {
   "display_name": "Python 3",
   "language": "python",
   "name": "python3"
  },
  "language_info": {
   "codemirror_mode": {
    "name": "ipython",
    "version": 3
   },
   "file_extension": ".py",
   "mimetype": "text/x-python",
   "name": "python",
   "nbconvert_exporter": "python",
   "pygments_lexer": "ipython3",
   "version": "3.6.2"
  }
 },
 "nbformat": 4,
 "nbformat_minor": 2
}
