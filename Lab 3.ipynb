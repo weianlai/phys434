{
 "cells": [
  {
   "cell_type": "markdown",
   "metadata": {},
   "source": [
    "Lab #3: Asking a statistical question\n",
    "\n",
    "Name: Wayne Lai,\n",
    "Partner:"
   ]
  },
  {
   "cell_type": "code",
   "execution_count": 13,
   "metadata": {
    "collapsed": true
   },
   "outputs": [],
   "source": [
    "import numpy as np\n",
    "import matplotlib.pyplot as plt\n",
    "from scipy.stats import norm"
   ]
  },
  {
   "cell_type": "markdown",
   "metadata": {},
   "source": [
    "Problem 1"
   ]
  },
  {
   "cell_type": "code",
   "execution_count": 29,
   "metadata": {},
   "outputs": [],
   "source": [
    "# create 100k data points at 12 kelvins +- 0.4 kelvins\n",
    "# add in the bad points, using append. Include the x-axis.\n",
    "# from the gaussian distribution of the ppf, we want to get rid of the tails at 1/100000.\n",
    "\n",
    "# statistical question: \n",
    "\n",
    "# statistical question in math: with the probability distribution of the data points, what are\n",
    "# the numerical thresholds if we integrate and take out the top and bottom 1/100000.\n",
    "\n",
    "x = np.linspace(10,14,100008);\n",
    "\n",
    "badDataP = [10., 10.3, 2.1, 0., 0., 15.6, 22.3, 12.7];\n",
    "dataPoint = norm.rvs(loc = 12, scale = 0.4, size = 100000);\n",
    "totalData = np.append(dataPoint,badDataP);\n",
    "\n",
    "# the threshold we used is 1/100000 in the probability distribution, need to find the sigma,\n",
    "# about 4.25 sigma.\n",
    "\n",
    "#plt.plot(x, norm.ppf(totalData))\n",
    "#plt.show();\n",
    "\n",
    "# true positive: .99999\n",
    "# false positive: 1/4\n",
    "# true negative: 1\n",
    "# false negative: 3/4\n",
    "\n",
    "# 10.3 and 13.7\n",
    "# false negative at 3/4. those are the values that falls outside of the upper and lower\n",
    "# threshold, compared to the values that are listed on the question. the bad data that was\n",
    "# kept is 1/4.\n",
    "\n",
    "# the probability can be lowered to increase the overall relevant area to increase the sigma.\n",
    "# there will be commission that is unavoidable unless if all the data is rejected. lowering\n",
    "# statistical threshold will reduce the commission but will also take out many good data."
   ]
  },
  {
   "cell_type": "markdown",
   "metadata": {
    "collapsed": true
   },
   "source": [
    "Problem 2"
   ]
  },
  {
   "cell_type": "code",
   "execution_count": null,
   "metadata": {},
   "outputs": [],
   "source": [
    "# rayleigh distribution with 2 dimensional gaussian\n",
    "# multivariate normal distribution is another choice"
   ]
  },
  {
   "cell_type": "code",
   "execution_count": null,
   "metadata": {
    "collapsed": true
   },
   "outputs": [],
   "source": []
  }
 ],
 "metadata": {
  "kernelspec": {
   "display_name": "Python 3",
   "language": "python",
   "name": "python3"
  },
  "language_info": {
   "codemirror_mode": {
    "name": "ipython",
    "version": 3
   },
   "file_extension": ".py",
   "mimetype": "text/x-python",
   "name": "python",
   "nbconvert_exporter": "python",
   "pygments_lexer": "ipython3",
   "version": "3.6.2"
  }
 },
 "nbformat": 4,
 "nbformat_minor": 2
}
