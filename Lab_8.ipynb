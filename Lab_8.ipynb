{
 "cells": [
  {
   "cell_type": "markdown",
   "metadata": {},
   "source": [
    "Lab 8\n",
    "\n",
    "Name: Wayne Lai"
   ]
  },
  {
   "cell_type": "code",
   "execution_count": 1,
   "metadata": {},
   "outputs": [],
   "source": [
    "%matplotlib inline\n",
    "import numpy as np\n",
    "import matplotlib\n",
    "import matplotlib.pyplot as plt\n",
    "import scipy\n",
    "from scipy import stats\n",
    "import pickle\n",
    "\n",
    "plt.rcParams[\"figure.figsize\"] = (15,10)"
   ]
  },
  {
   "cell_type": "code",
   "execution_count": 2,
   "metadata": {},
   "outputs": [
    {
     "data": {
      "text/plain": [
       "Index(['pt', 'eta', 'phi', 'mass', 'ee2', 'ee3', 'd2', 'angularity', 't1',\n",
       "       't2', 't3', 't21', 't32', 'KtDeltaR'],\n",
       "      dtype='object')"
      ]
     },
     "execution_count": 2,
     "metadata": {},
     "output_type": "execute_result"
    }
   ],
   "source": [
    "# reading in the data\n",
    "# signal data\n",
    "higgsfile1 = open (\"higgs_100000_pt_250_500.pkl\",'rb')\n",
    "higgs_100000 = pickle.load(higgsfile1)\n",
    "\n",
    "# background data\n",
    "qcdfile1 = open (\"qcd_100000_pt_250_500.pkl\",'rb')\n",
    "qcd_100000 = pickle.load(qcdfile1)\n",
    "\n",
    "higgs_100000.keys()"
   ]
  },
  {
   "cell_type": "code",
   "execution_count": 3,
   "metadata": {},
   "outputs": [
    {
     "name": "stdout",
     "output_type": "stream",
     "text": [
      "mean of higgs: 114.892387\n",
      "std of higgs: 10.718787\n",
      "\n",
      "mean of qcd: 97.738041\n",
      "std of qcd: 9.886255\n"
     ]
    },
    {
     "name": "stderr",
     "output_type": "stream",
     "text": [
      "C:\\Users\\Student User\\Anaconda3\\lib\\site-packages\\ipykernel_launcher.py:15: MatplotlibDeprecationWarning: \n",
      "The 'normed' kwarg was deprecated in Matplotlib 2.1 and will be removed in 3.1. Use 'density' instead.\n",
      "  from ipykernel import kernelapp as app\n",
      "C:\\Users\\Student User\\Anaconda3\\lib\\site-packages\\ipykernel_launcher.py:19: MatplotlibDeprecationWarning: \n",
      "The 'normed' kwarg was deprecated in Matplotlib 2.1 and will be removed in 3.1. Use 'density' instead.\n"
     ]
    },
    {
     "data": {
      "image/png": "[encoded data removed]",
      "text/plain": [
       "<Figure size 432x288 with 2 Axes>"
      ]
     },
     "metadata": {
      "needs_background": "light"
     },
     "output_type": "display_data"
    }
   ],
   "source": [
    "# finding the average and standard deviation of the data\n",
    "lambda_higgs = np.mean(higgs_100000['mass'])\n",
    "sigma_higgs = np.sqrt(lambda_higgs)\n",
    "print('mean of higgs: %f' %lambda_higgs)\n",
    "print('std of higgs: %f' %sigma_higgs)\n",
    "print()\n",
    "\n",
    "lambda_qcd = np.mean(qcd_100000['mass'])\n",
    "sigma_qcd = np.sqrt(lambda_qcd)\n",
    "print('mean of qcd: %f' %lambda_qcd)\n",
    "print('std of qcd: %f' %sigma_qcd)\n",
    "\n",
    "# make a histogram of the data\n",
    "plt.subplot(1,2,1);\n",
    "plt.hist(higgs_100000['mass'], bins = 100, normed = True);\n",
    "plt.title('higgs (mass)');\n",
    "\n",
    "plt.subplot(1,2,2);\n",
    "plt.hist(qcd_100000['mass'], bins = 100, normed = True);\n",
    "plt.title('qcd (mass)');\n",
    "\n",
    "plt.show()"
   ]
  },
  {
   "cell_type": "code",
   "execution_count": 4,
   "metadata": {},
   "outputs": [
    {
     "name": "stdout",
     "output_type": "stream",
     "text": [
      "upper bound is 168.486320\n",
      "lower bound is 61.298454\n"
     ]
    }
   ],
   "source": [
    "# for higgs\n",
    "# finding the 5 sigma of the data, and the upper and lower bounds\n",
    "sigma5_higgs = sigma_higgs * 5\n",
    "upper_bound_higgs = sigma5_higgs + lambda_higgs\n",
    "lower_bound_higgs = lambda_higgs - sigma5_higgs\n",
    "\n",
    "print('upper bound is %f' %upper_bound_higgs)\n",
    "print('lower bound is %f' %lower_bound_higgs)"
   ]
  },
  {
   "cell_type": "code",
   "execution_count": 5,
   "metadata": {},
   "outputs": [
    {
     "name": "stdout",
     "output_type": "stream",
     "text": [
      "upper bound is 147.169317\n",
      "lower bound is 48.306765\n"
     ]
    }
   ],
   "source": [
    "# for qcd\n",
    "# finding the 5 sigma of the data, and the upper and lower bounds\n",
    "sigma5_qcd = sigma_qcd * 5\n",
    "upper_bound_qcd = sigma5_qcd + lambda_qcd\n",
    "lower_bound_qcd = lambda_qcd - sigma5_qcd\n",
    "\n",
    "print('upper bound is %f' %upper_bound_qcd)\n",
    "print('lower bound is %f' %lower_bound_qcd)"
   ]
  },
  {
   "cell_type": "code",
   "execution_count": 146,
   "metadata": {},
   "outputs": [
    {
     "name": "stdout",
     "output_type": "stream",
     "text": [
      "0\n"
     ]
    }
   ],
   "source": [
    "# for higgs\n",
    "# counts the number of data that is within the threshold\n",
    "count2 = 0;\n",
    "for x in range(len(qcd_100000['mass'])):\n",
    "    if higgs_100000['mass'][x] > upper_bound_higgs:\n",
    "        count2 = count2 + 1\n",
    "        \n",
    "print(count2)"
   ]
  },
  {
   "cell_type": "code",
   "execution_count": 144,
   "metadata": {},
   "outputs": [
    {
     "name": "stdout",
     "output_type": "stream",
     "text": [
      "N_qcd = 20610\n"
     ]
    }
   ],
   "source": [
    "# for qcd\n",
    "# counts the number of data that is outside the threshold\n",
    "count1 = 0;\n",
    "count2 = 0;\n",
    "for x in range(len(qcd_100000['mass'])):\n",
    "    if qcd_100000['mass'][x] > upper_bound_qcd:\n",
    "        count1 = count1 + 1\n",
    "\n",
    "for x in range(len(qcd_100000['mass'])):\n",
    "    if qcd_100000['mass'][x] < lower_bound_qcd:\n",
    "        count2 = count2 + 1\n",
    "\n",
    "answer = int(count1 + count2)\n",
    "print('N_qcd = %i' %answer)"
   ]
  },
  {
   "cell_type": "code",
   "execution_count": 8,
   "metadata": {},
   "outputs": [
    {
     "name": "stderr",
     "output_type": "stream",
     "text": [
      "C:\\Users\\Student User\\Anaconda3\\lib\\site-packages\\ipykernel_launcher.py:1: MatplotlibDeprecationWarning: \n",
      "The 'normed' kwarg was deprecated in Matplotlib 2.1 and will be removed in 3.1. Use 'density' instead.\n",
      "  \"\"\"Entry point for launching an IPython kernel.\n",
      "C:\\Users\\Student User\\Anaconda3\\lib\\site-packages\\ipykernel_launcher.py:3: MatplotlibDeprecationWarning: \n",
      "The 'normed' kwarg was deprecated in Matplotlib 2.1 and will be removed in 3.1. Use 'density' instead.\n",
      "  This is separate from the ipykernel package so we can avoid doing imports until\n"
     ]
    },
    {
     "data": {
      "image/png": "[encoded data removed]",
      "text/plain": [
       "<Figure size 432x288 with 1 Axes>"
      ]
     },
     "metadata": {
      "needs_background": "light"
     },
     "output_type": "display_data"
    }
   ],
   "source": [
    "plt.hist(higgs_100000['mass'], bins = 100, normed = True, alpha = 0.5);\n",
    "\n",
    "plt.hist(qcd_100000['mass'], bins = 100, normed = True, alpha = 0.5);\n",
    "\n",
    "plt.show();"
   ]
  },
  {
   "cell_type": "code",
   "execution_count": 11,
   "metadata": {},
   "outputs": [
    {
     "name": "stdout",
     "output_type": "stream",
     "text": [
      "[0 1 2 3 4 5 6 7 8 9]\n"
     ]
    }
   ],
   "source": [
    "test = np.arange(10)\n",
    "print(test)"
   ]
  },
  {
   "cell_type": "code",
   "execution_count": 41,
   "metadata": {},
   "outputs": [],
   "source": [
    "\n",
    "from astropy.stats import jackknife_resampling\n",
    "from astropy.stats import jackknife_stats"
   ]
  },
  {
   "cell_type": "code",
   "execution_count": 134,
   "metadata": {},
   "outputs": [],
   "source": [
    "data1 = np.array(qcd_100000['mass'][0:10000])\n",
    "# data2 = np.array(qcd_100000['mass'][50000:99999])"
   ]
  },
  {
   "cell_type": "code",
   "execution_count": 135,
   "metadata": {},
   "outputs": [],
   "source": [
    "test_statistic = lambda x: np.mean(x)\n",
    "estimate, bias, stderr, conf_interval = jackknife_stats(data1, test_statistic, 0.95)"
   ]
  },
  {
   "cell_type": "code",
   "execution_count": 136,
   "metadata": {},
   "outputs": [
    {
     "data": {
      "text/plain": [
       "97.93438612827718"
      ]
     },
     "execution_count": 136,
     "metadata": {},
     "output_type": "execute_result"
    }
   ],
   "source": [
    "estimate"
   ]
  },
  {
   "cell_type": "code",
   "execution_count": 137,
   "metadata": {},
   "outputs": [
    {
     "data": {
      "text/plain": [
       "1.4209433629730484e-10"
      ]
     },
     "execution_count": 137,
     "metadata": {},
     "output_type": "execute_result"
    }
   ],
   "source": [
    "bias"
   ]
  },
  {
   "cell_type": "code",
   "execution_count": 138,
   "metadata": {},
   "outputs": [
    {
     "data": {
      "text/plain": [
       "0.4359615439308168"
      ]
     },
     "execution_count": 138,
     "metadata": {},
     "output_type": "execute_result"
    }
   ],
   "source": [
    "stderr"
   ]
  },
  {
   "cell_type": "code",
   "execution_count": 139,
   "metadata": {},
   "outputs": [
    {
     "data": {
      "text/plain": [
       "array([97.0799172 , 98.78885505])"
      ]
     },
     "execution_count": 139,
     "metadata": {},
     "output_type": "execute_result"
    }
   ],
   "source": [
    "conf_interval"
   ]
  },
  {
   "cell_type": "code",
   "execution_count": 92,
   "metadata": {},
   "outputs": [],
   "source": [
    "numCuts = 4"
   ]
  },
  {
   "cell_type": "code",
   "execution_count": 108,
   "metadata": {},
   "outputs": [
    {
     "data": {
      "text/plain": [
       "array([0., 0.])"
      ]
     },
     "execution_count": 108,
     "metadata": {},
     "output_type": "execute_result"
    }
   ],
   "source": [
    "# For problem 2, the data can be cut in half, and repeat the process that was done on one.\n",
    "# Specifically, plot the histogram of the cut data, finding the values in terms of poisson\n",
    "# distribution, ie lambda and sigma. Using cqd function to find the significance value at\n",
    "# 95%. This can be repeated again with more cuts on the data.\n",
    "\n",
    "# For problem 3, refer to lab 5 to compare to the mass data to see if there is comparably\n",
    "# discrimitive."
   ]
  },
  {
   "cell_type": "code",
   "execution_count": 102,
   "metadata": {},
   "outputs": [
    {
     "name": "stdout",
     "output_type": "stream",
     "text": [
      "3\n"
     ]
    }
   ],
   "source": [
    "data = np.arange(12)\n",
    "number_cuts = 4\n",
    "start = 0\n",
    "number_data = int(len(data) / 4)\n",
    "print(number_data)"
   ]
  },
  {
   "cell_type": "code",
   "execution_count": 106,
   "metadata": {},
   "outputs": [
    {
     "ename": "IndexError",
     "evalue": "too many indices for array",
     "output_type": "error",
     "traceback": [
      "\u001b[1;31m---------------------------------------------------------------------------\u001b[0m",
      "\u001b[1;31mIndexError\u001b[0m                                Traceback (most recent call last)",
      "\u001b[1;32m<ipython-input-106-e482fa4b2236>\u001b[0m in \u001b[0;36m<module>\u001b[1;34m\u001b[0m\n\u001b[0;32m      1\u001b[0m \u001b[0mresult\u001b[0m \u001b[1;33m=\u001b[0m \u001b[0mnp\u001b[0m\u001b[1;33m.\u001b[0m\u001b[0mzeros\u001b[0m\u001b[1;33m(\u001b[0m\u001b[0mnumber_cuts\u001b[0m\u001b[1;33m,\u001b[0m\u001b[1;33m[\u001b[0m\u001b[1;33m]\u001b[0m\u001b[1;33m)\u001b[0m\u001b[1;33m\u001b[0m\u001b[1;33m\u001b[0m\u001b[0m\n\u001b[0;32m      2\u001b[0m \u001b[1;32mfor\u001b[0m \u001b[0mx\u001b[0m \u001b[1;32min\u001b[0m \u001b[0mrange\u001b[0m\u001b[1;33m(\u001b[0m\u001b[0mnumber_cuts\u001b[0m\u001b[1;33m)\u001b[0m\u001b[1;33m:\u001b[0m\u001b[1;33m\u001b[0m\u001b[1;33m\u001b[0m\u001b[0m\n\u001b[1;32m----> 3\u001b[1;33m     \u001b[0mresult\u001b[0m\u001b[1;33m[\u001b[0m\u001b[0mx\u001b[0m\u001b[1;33m,\u001b[0m\u001b[1;33m:\u001b[0m\u001b[1;33m]\u001b[0m \u001b[1;33m=\u001b[0m \u001b[0mdata\u001b[0m\u001b[1;33m[\u001b[0m\u001b[0mstart\u001b[0m\u001b[1;33m:\u001b[0m\u001b[1;33m(\u001b[0m\u001b[0mstart\u001b[0m \u001b[1;33m+\u001b[0m \u001b[0mnumber_data\u001b[0m\u001b[1;33m)\u001b[0m\u001b[1;33m]\u001b[0m\u001b[1;33m\u001b[0m\u001b[1;33m\u001b[0m\u001b[0m\n\u001b[0m\u001b[0;32m      4\u001b[0m     \u001b[0mstart\u001b[0m \u001b[1;33m=\u001b[0m \u001b[0mstart\u001b[0m \u001b[1;33m+\u001b[0m \u001b[0mnumber_data\u001b[0m \u001b[1;33m+\u001b[0m \u001b[1;36m1\u001b[0m\u001b[1;33m\u001b[0m\u001b[1;33m\u001b[0m\u001b[0m\n",
      "\u001b[1;31mIndexError\u001b[0m: too many indices for array"
     ]
    }
   ],
   "source": [
    "result = np.zeros(number_cuts,[])\n",
    "for x in range(number_cuts):\n",
    "    result[x,:] = data[start:(start + number_data)]\n",
    "    start = start + number_data + 1"
   ]
  },
  {
   "cell_type": "code",
   "execution_count": null,
   "metadata": {},
   "outputs": [],
   "source": []
  }
 ],
 "metadata": {
  "kernelspec": {
   "display_name": "Python 3",
   "language": "python",
   "name": "python3"
  },
  "language_info": {
   "codemirror_mode": {
    "name": "ipython",
    "version": 3
   },
   "file_extension": ".py",
   "mimetype": "text/x-python",
   "name": "python",
   "nbconvert_exporter": "python",
   "pygments_lexer": "ipython3",
   "version": "3.7.4"
  }
 },
 "nbformat": 4,
 "nbformat_minor": 2
}
